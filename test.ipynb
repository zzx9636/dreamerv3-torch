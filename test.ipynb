{
 "cells": [
  {
   "cell_type": "code",
   "execution_count": 1,
   "metadata": {},
   "outputs": [],
   "source": [
    "# Automatically reload package\n",
    "%load_ext autoreload\n",
    "%autoreload 2"
   ]
  },
  {
   "cell_type": "code",
   "execution_count": 3,
   "metadata": {},
   "outputs": [
    {
     "name": "stderr",
     "output_type": "stream",
     "text": [
      "\n"
     ]
    }
   ],
   "source": [
    "import argparse\n",
    "import functools\n",
    "import os\n",
    "import pathlib\n",
    "import sys\n",
    "\n",
    "os.environ[\"MUJOCO_GL\"] = \"osmesa\"\n",
    "\n",
    "import numpy as np\n",
    "import ruamel.yaml as yaml\n",
    "\n",
    "# sys.path.append(str(pathlib.Path(__file__).parent))\n",
    "\n",
    "import exploration as expl\n",
    "import models\n",
    "import tools\n",
    "import envs.wrappers as wrappers\n",
    "from parallel import Parallel, Damy\n",
    "\n",
    "import torch\n",
    "from torch import nn\n",
    "from torch import distributions as torchd\n",
    "\n",
    "\n",
    "to_np = lambda x: x.detach().cpu().numpy()"
   ]
  },
  {
   "cell_type": "code",
   "execution_count": 17,
   "metadata": {},
   "outputs": [],
   "source": [
    "config = 'configs.yaml'\n",
    "\n",
    "# Load the configuration file\n",
    "with open(config, 'r') as f:\n",
    "    configs = yaml.safe_load(f)\n",
    "    \n",
    "def recursive_update(base, update):\n",
    "    for key, value in update.items():\n",
    "        if isinstance(value, dict) and key in base:\n",
    "            recursive_update(base[key], value)\n",
    "        else:\n",
    "            base[key] = value\n",
    "            \n",
    "name_list = [\"defaults\", \"dmc_vision\"] \n",
    "\n",
    "defaults = {}\n",
    "for name in name_list:\n",
    "    recursive_update(defaults, configs[name])\n",
    "\n",
    "\n"
   ]
  },
  {
   "cell_type": "code",
   "execution_count": 24,
   "metadata": {},
   "outputs": [
    {
     "data": {
      "text/plain": [
       "10000.0"
      ]
     },
     "execution_count": 24,
     "metadata": {},
     "output_type": "execute_result"
    }
   ],
   "source": [
    "defaults['eval_every']"
   ]
  }
 ],
 "metadata": {
  "kernelspec": {
   "display_name": "dreamer",
   "language": "python",
   "name": "python3"
  },
  "language_info": {
   "codemirror_mode": {
    "name": "ipython",
    "version": 3
   },
   "file_extension": ".py",
   "mimetype": "text/x-python",
   "name": "python",
   "nbconvert_exporter": "python",
   "pygments_lexer": "ipython3",
   "version": "3.11.11"
  }
 },
 "nbformat": 4,
 "nbformat_minor": 2
}
